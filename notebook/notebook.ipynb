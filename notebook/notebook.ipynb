{
 "cells": [
  {
   "cell_type": "code",
   "execution_count": 1,
   "id": "cd1cf6e6",
   "metadata": {},
   "outputs": [
    {
     "name": "stdout",
     "output_type": "stream",
     "text": [
      "Index(['age', 'height_cm', 'weight_kg', 'meals_per_day', 'has_diabetes',\n",
      "       'has_hypertension', 'sugar_level', 'sleep_hours', 'stress_level', 'bmr',\n",
      "       'tdee', 'target_calories', 'carbs_g', 'protein_g', 'fats_g',\n",
      "       'systolic_bp', 'diastolic_bp', 'gender_male',\n",
      "       'fitness_goal_weight_gain', 'fitness_goal_weight_loss',\n",
      "       'activity_level_moderate', 'activity_level_sedentary',\n",
      "       'diet_type_non-veg', 'diet_type_vegan', 'diet_type_vegetarian',\n",
      "       'preferred_cuisine_Continental', 'preferred_cuisine_Indian',\n",
      "       'preferred_cuisine_Mediterranean',\n",
      "       'meal_plan_type_Calorie-Deficit High-Protein',\n",
      "       'meal_plan_type_High-Calorie Protein-Rich',\n",
      "       'meal_plan_type_Low-GI High-Fiber Plan',\n",
      "       'meal_plan_type_Low-GI Low-Sodium Plan',\n",
      "       'meal_plan_type_Low-Sodium High-Potassium Plan',\n",
      "       'health_tag_Diabetic & BP-Safe Plan', 'health_tag_Diabetic-Safe Plan',\n",
      "       'health_tag_General Plan'],\n",
      "      dtype='object')\n"
     ]
    }
   ],
   "source": [
    "import pandas as pd \n",
    "df=pd.read_csv(\"meal_planner_cleaned.csv\")\n",
    "print(df.columns)\n"
   ]
  },
  {
   "cell_type": "code",
   "execution_count": null,
   "id": "64b346e2",
   "metadata": {},
   "outputs": [],
   "source": []
  }
 ],
 "metadata": {
  "kernelspec": {
   "display_name": "venv",
   "language": "python",
   "name": "python3"
  },
  "language_info": {
   "codemirror_mode": {
    "name": "ipython",
    "version": 3
   },
   "file_extension": ".py",
   "mimetype": "text/x-python",
   "name": "python",
   "nbconvert_exporter": "python",
   "pygments_lexer": "ipython3",
   "version": "3.10.18"
  }
 },
 "nbformat": 4,
 "nbformat_minor": 5
}
